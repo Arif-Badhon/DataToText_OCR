{
 "cells": [
  {
   "cell_type": "markdown",
   "metadata": {},
   "source": [
    "## This notebook is for the \"d2d\" project"
   ]
  },
  {
   "cell_type": "markdown",
   "metadata": {},
   "source": [
    "#### Here we will analyze the image to exract data from it"
   ]
  },
  {
   "cell_type": "markdown",
   "metadata": {},
   "source": [
    "##### Here we will use mainly python-tesserect and opencv to do this"
   ]
  },
  {
   "cell_type": "code",
   "execution_count": 5,
   "metadata": {},
   "outputs": [],
   "source": [
    "#import all the things\n",
    "import cv2\n",
    "import pytesseract\n",
    "import numpy as np"
   ]
  },
  {
   "cell_type": "code",
   "execution_count": 6,
   "metadata": {},
   "outputs": [
    {
     "name": "stdout",
     "output_type": "stream",
     "text": [
      "[[[ 52  92 121]\n",
      "  [ 58  98 127]\n",
      "  [ 61 101 130]\n",
      "  ...\n",
      "  [129 147 178]\n",
      "  [127 145 176]\n",
      "  [125 143 174]]\n",
      "\n",
      " [[ 63 103 132]\n",
      "  [ 65 105 133]\n",
      "  [ 65 105 134]\n",
      "  ...\n",
      "  [127 145 176]\n",
      "  [126 144 175]\n",
      "  [125 143 174]]\n",
      "\n",
      " [[ 73 113 141]\n",
      "  [ 72 113 138]\n",
      "  [ 68 108 136]\n",
      "  ...\n",
      "  [125 143 174]\n",
      "  [125 143 174]\n",
      "  [125 143 174]]\n",
      "\n",
      " ...\n",
      "\n",
      " [[ 10   9  11]\n",
      "  [ 10   9  11]\n",
      "  [ 10   9  11]\n",
      "  ...\n",
      "  [147 164 167]\n",
      "  [147 164 167]\n",
      "  [147 164 167]]\n",
      "\n",
      " [[ 10   9  11]\n",
      "  [ 10   9  11]\n",
      "  [ 10   9  11]\n",
      "  ...\n",
      "  [147 164 167]\n",
      "  [147 164 167]\n",
      "  [147 164 167]]\n",
      "\n",
      " [[ 10   9  11]\n",
      "  [ 10   9  11]\n",
      "  [ 10   9  11]\n",
      "  ...\n",
      "  [147 164 167]\n",
      "  [147 164 167]\n",
      "  [147 164 167]]]\n"
     ]
    }
   ],
   "source": [
    "#Read an Image\n",
    "img = cv2.imread('Images/1.jpeg')\n",
    "print(img)"
   ]
  },
  {
   "cell_type": "markdown",
   "metadata": {},
   "source": [
    "##### as above we can see the output of the image in array"
   ]
  },
  {
   "cell_type": "code",
   "execution_count": 7,
   "metadata": {},
   "outputs": [
    {
     "name": "stdout",
     "output_type": "stream",
     "text": [
      "JUTCH-BANGLA BANK LIMITED\n",
      "A\\CADEMY MR FT=2 CHUA\n",
      "DATE IME TERMINAL 1D\n",
      "12/12/21 09:34:01 25134094 P\n",
      "M/S Amin |5\n",
      "CARD NO # xxxxxxxxxxxxxxx‘;n,rla\n",
      "09SFY|\n",
      "\n",
      "TXN NO. 00325472 RESP CODE: O\n",
      "\n",
      "FUNDS TRANSFER\n",
      "\n",
      "FR A/C#: 1351010120022\n",
      "\n",
      "TO A/C#: 1031100022462\n",
      "\n",
      "TXN AMOUNT: TK 52.00 52_7;-\"\n",
      "\n",
      "AVAIL BAL : TK. AT\n",
      "\n",
      "@W’L{ /3'4\n",
      "\n",
      "EMV APP ID: F0504442420110\n",
      "THANK YOU FOR USING\n",
      "DBBL NETWORK\n",
      "\n",
      "\n"
     ]
    }
   ],
   "source": [
    "#Now lets try with tesseract\n",
    "\n",
    "text = pytesseract.image_to_string('Images/1.jpeg')\n",
    "print(text)"
   ]
  },
  {
   "cell_type": "markdown",
   "metadata": {},
   "source": [
    "##### So, we can see we get the output data as text from the image. To get better output we need to do some preprocessing"
   ]
  },
  {
   "cell_type": "code",
   "execution_count": 8,
   "metadata": {},
   "outputs": [],
   "source": [
    "#convert to grayscale\n",
    "img = cv2.imread('Images/1.jpeg', 0)\n",
    "\n",
    "#Threshold\n",
    "img = cv2.threshold(img, 0, 255, cv2.THRESH_BINARY + cv2.THRESH_OTSU)[1]\n",
    "\n",
    "#Remove noise\n",
    "img = cv2.medianBlur(img, 5)"
   ]
  },
  {
   "cell_type": "markdown",
   "metadata": {},
   "source": [
    "##### Now after prepocessing we will do the same as above"
   ]
  },
  {
   "cell_type": "code",
   "execution_count": 9,
   "metadata": {},
   "outputs": [
    {
     "name": "stdout",
     "output_type": "stream",
     "text": [
      "JUTCH-BANGLA BANK LIMITED\n",
      "A\\CADEMY MR FT=2 CHUA\n",
      "DATE IME TERMINAL 1D\n",
      "12/12/21 09:34:01 25134094 P\n",
      "M/S Amin |5\n",
      "CARD NO # xxxxxxxxxxxxxxx‘;n,rla\n",
      "09SFY|\n",
      "\n",
      "TXN NO. 00325472 RESP CODE: O\n",
      "\n",
      "FUNDS TRANSFER\n",
      "\n",
      "FR A/C#: 1351010120022\n",
      "\n",
      "TO A/C#: 1031100022462\n",
      "\n",
      "TXN AMOUNT: TK 52.00 52_7;-\"\n",
      "\n",
      "AVAIL BAL : TK. AT\n",
      "\n",
      "@W’L{ /3'4\n",
      "\n",
      "EMV APP ID: F0504442420110\n",
      "THANK YOU FOR USING\n",
      "DBBL NETWORK\n",
      "\n",
      "\n"
     ]
    }
   ],
   "source": [
    "text = pytesseract.image_to_string('Images/1.jpeg')\n",
    "print(text)"
   ]
  },
  {
   "cell_type": "code",
   "execution_count": 10,
   "metadata": {},
   "outputs": [
    {
     "name": "stdout",
     "output_type": "stream",
     "text": [
      "['JUTCH-BANGLA BANK LIMITED', 'A\\\\CADEMY MR FT=2 CHUA', 'DATE IME TERMINAL 1D', '12/12/21 09:34:01 25134094 P', 'M/S Amin |5', 'CARD NO # xxxxxxxxxxxxxxx‘;n,rla', '09SFY|', '', 'TXN NO. 00325472 RESP CODE: O', '', 'FUNDS TRANSFER', '', 'FR A/C#: 1351010120022', '', 'TO A/C#: 1031100022462', '', 'TXN AMOUNT: TK 52.00 52_7;-\"', '', 'AVAIL BAL : TK. AT', '', \"@W’L{ /3'4\", '', 'EMV APP ID: F0504442420110', 'THANK YOU FOR USING', 'DBBL NETWORK', '', '']\n"
     ]
    }
   ],
   "source": [
    "# Now lets split the text\n",
    "test = text.split(\"\\n\")\n",
    "print(test)"
   ]
  },
  {
   "cell_type": "code",
   "execution_count": 11,
   "metadata": {},
   "outputs": [
    {
     "data": {
      "text/plain": [
       "list"
      ]
     },
     "execution_count": 11,
     "metadata": {},
     "output_type": "execute_result"
    }
   ],
   "source": [
    "type(test)"
   ]
  },
  {
   "cell_type": "code",
   "execution_count": 12,
   "metadata": {},
   "outputs": [],
   "source": [
    "with open('details.txt', 'w') as f:\n",
    "    for line in test:\n",
    "        f.write(line)\n",
    "        f.write('\\n')"
   ]
  },
  {
   "cell_type": "markdown",
   "metadata": {},
   "source": [
    "### Now we need to save the info in csv"
   ]
  },
  {
   "cell_type": "code",
   "execution_count": 13,
   "metadata": {},
   "outputs": [],
   "source": [
    "import csv\n",
    "with open('wordstest.csv', 'w', encoding='UTF8') as f:\n",
    "    writer = csv.writer(f)\n",
    "\n",
    "    # write the header\n",
    "    writer.writerow(text)\n"
   ]
  },
  {
   "cell_type": "markdown",
   "metadata": {},
   "source": [
    "### Now we need to build a excel sheet"
   ]
  },
  {
   "cell_type": "code",
   "execution_count": 14,
   "metadata": {},
   "outputs": [],
   "source": [
    "# import xlsxwriter module\n",
    "import xlsxwriter\n",
    "\n",
    "workbook = xlsxwriter.Workbook('Example2.xlsx')\n",
    "worksheet = workbook.add_worksheet()\n",
    "\n",
    "# Start from the first cell.\n",
    "# Rows and columns are zero indexed.\n",
    "row = 0\n",
    "column = 0\n",
    "# iterating through content list\n",
    "for item in test :\n",
    "\n",
    "\t# write operation perform\n",
    "\tworksheet.write(column, row, item)\n",
    "\n",
    "\t# incrementing the value of row by one\n",
    "\t# with each iterations.\n",
    "\trow += 1\n",
    "\t\n",
    "workbook.close()\n"
   ]
  }
 ],
 "metadata": {
  "interpreter": {
   "hash": "f9f85f796d01129d0dd105a088854619f454435301f6ffec2fea96ecbd9be4ac"
  },
  "kernelspec": {
   "display_name": "Python 3.9.10 64-bit",
   "language": "python",
   "name": "python3"
  },
  "language_info": {
   "codemirror_mode": {
    "name": "ipython",
    "version": 3
   },
   "file_extension": ".py",
   "mimetype": "text/x-python",
   "name": "python",
   "nbconvert_exporter": "python",
   "pygments_lexer": "ipython3",
   "version": "3.8.10"
  },
  "orig_nbformat": 4
 },
 "nbformat": 4,
 "nbformat_minor": 2
}
