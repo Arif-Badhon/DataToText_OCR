{
 "cells": [
  {
   "cell_type": "markdown",
   "metadata": {},
   "source": [
    "## This notebook is for the \"d2d\" project"
   ]
  },
  {
   "cell_type": "markdown",
   "metadata": {},
   "source": [
    "#### Here we will analyze the image to exract data from it"
   ]
  },
  {
   "cell_type": "markdown",
   "metadata": {},
   "source": [
    "##### Here we will use mainly python-tesserect and opencv to do this"
   ]
  },
  {
   "cell_type": "code",
   "execution_count": 2,
   "metadata": {},
   "outputs": [],
   "source": [
    "#import all the things\n",
    "import cv2\n",
    "import pytesseract\n",
    "import numpy as np"
   ]
  },
  {
   "cell_type": "code",
   "execution_count": 3,
   "metadata": {},
   "outputs": [
    {
     "name": "stdout",
     "output_type": "stream",
     "text": [
      "[[[226 223 219]\n",
      "  [226 223 219]\n",
      "  [226 223 219]\n",
      "  ...\n",
      "  [113 115 123]\n",
      "  [112 114 122]\n",
      "  [110 113 121]]\n",
      "\n",
      " [[226 223 219]\n",
      "  [226 223 219]\n",
      "  [226 223 219]\n",
      "  ...\n",
      "  [116 118 126]\n",
      "  [114 116 124]\n",
      "  [112 115 123]]\n",
      "\n",
      " [[226 223 219]\n",
      "  [226 223 219]\n",
      "  [226 223 219]\n",
      "  ...\n",
      "  [118 120 128]\n",
      "  [117 119 127]\n",
      "  [114 117 125]]\n",
      "\n",
      " ...\n",
      "\n",
      " [[227 226 222]\n",
      "  [227 226 222]\n",
      "  [227 226 222]\n",
      "  ...\n",
      "  [ 19  30  50]\n",
      "  [ 19  33  52]\n",
      "  [ 16  30  53]]\n",
      "\n",
      " [[227 226 222]\n",
      "  [227 226 222]\n",
      "  [227 226 222]\n",
      "  ...\n",
      "  [ 20  31  51]\n",
      "  [ 19  33  52]\n",
      "  [ 17  31  54]]\n",
      "\n",
      " [[227 226 222]\n",
      "  [227 226 222]\n",
      "  [227 226 222]\n",
      "  ...\n",
      "  [ 20  31  51]\n",
      "  [ 20  34  53]\n",
      "  [ 17  31  54]]]\n"
     ]
    }
   ],
   "source": [
    "#Read an Image\n",
    "img = cv2.imread('Images/2.jpeg')\n",
    "print(img)"
   ]
  },
  {
   "cell_type": "markdown",
   "metadata": {},
   "source": [
    "##### as above we can see the output of the image in array"
   ]
  },
  {
   "cell_type": "code",
   "execution_count": 4,
   "metadata": {},
   "outputs": [
    {
     "name": "stdout",
     "output_type": "stream",
     "text": [
      "‘ q\n",
      "\n",
      "“s\n",
      "@ DUTCH BANGLA BANK\n",
      "\n",
      "Transaction Sum pee enterprise\n",
      "Customer Co\n",
      "woes con 1094643\n",
      "\n",
      " \n",
      "\n",
      "Transaction Type: Fund Transfer po- 12731\n",
      "Transaction ID : 102674119\n",
      "\n",
      "Date : December 02, 2021\n",
      "Initiator : 01711486765\n",
      "\n",
      "From Account : 7017512561124\n",
      "Account Name : MD.FAZLERABBI\n",
      "\n",
      "To Account : 1031100022462\n",
      "Account Name : RICECO INTERNATIONAL\n",
      "Amount : 27076.0\n",
      "\n",
      "Fee 254.15\n",
      "\n",
      "Generated Time = 2021/12/02 14:40:55\n",
      "\n",
      "Teller Signature Customer Signature\n",
      "\n",
      "This is a system generated report of DBBL\n",
      "\f\n"
     ]
    }
   ],
   "source": [
    "#Now lets try with tesseract\n",
    "\n",
    "text = pytesseract.image_to_string('Images/2.jpeg')\n",
    "print(text)"
   ]
  },
  {
   "cell_type": "markdown",
   "metadata": {},
   "source": [
    "##### So, we can see we get the output data as text from the image. To get better output we need to do some preprocessing"
   ]
  },
  {
   "cell_type": "code",
   "execution_count": 5,
   "metadata": {},
   "outputs": [],
   "source": [
    "#convert to grayscale\n",
    "img = cv2.imread('Images/2.jpeg', 0)\n",
    "\n",
    "#Threshold\n",
    "img = cv2.threshold(img, 0, 255, cv2.THRESH_BINARY + cv2.THRESH_OTSU)[1]\n",
    "\n",
    "#Remove noise\n",
    "img = cv2.medianBlur(img, 5)"
   ]
  },
  {
   "cell_type": "markdown",
   "metadata": {},
   "source": [
    "##### Now after prepocessing we will do the same as above"
   ]
  },
  {
   "cell_type": "code",
   "execution_count": 6,
   "metadata": {},
   "outputs": [
    {
     "name": "stdout",
     "output_type": "stream",
     "text": [
      "‘ q\n",
      "\n",
      "“s\n",
      "@ DUTCH BANGLA BANK\n",
      "\n",
      "Transaction Sum pee enterprise\n",
      "Customer Co\n",
      "woes con 1094643\n",
      "\n",
      " \n",
      "\n",
      "Transaction Type: Fund Transfer po- 12731\n",
      "Transaction ID : 102674119\n",
      "\n",
      "Date : December 02, 2021\n",
      "Initiator : 01711486765\n",
      "\n",
      "From Account : 7017512561124\n",
      "Account Name : MD.FAZLERABBI\n",
      "\n",
      "To Account : 1031100022462\n",
      "Account Name : RICECO INTERNATIONAL\n",
      "Amount : 27076.0\n",
      "\n",
      "Fee 254.15\n",
      "\n",
      "Generated Time = 2021/12/02 14:40:55\n",
      "\n",
      "Teller Signature Customer Signature\n",
      "\n",
      "This is a system generated report of DBBL\n",
      "\f\n"
     ]
    }
   ],
   "source": [
    "text = pytesseract.image_to_string('Images/2.jpeg')\n",
    "print(text)"
   ]
  },
  {
   "cell_type": "code",
   "execution_count": 7,
   "metadata": {},
   "outputs": [
    {
     "name": "stdout",
     "output_type": "stream",
     "text": [
      "['‘ q', '', '“s', '@ DUTCH BANGLA BANK', '', 'Transaction Sum pee enterprise', 'Customer Co', 'woes con 1094643', '', ' ', '', 'Transaction Type: Fund Transfer po- 12731', 'Transaction ID : 102674119', '', 'Date : December 02, 2021', 'Initiator : 01711486765', '', 'From Account : 7017512561124', 'Account Name : MD.FAZLERABBI', '', 'To Account : 1031100022462', 'Account Name : RICECO INTERNATIONAL', 'Amount : 27076.0', '', 'Fee 254.15', '', 'Generated Time = 2021/12/02 14:40:55', '', 'Teller Signature Customer Signature', '', 'This is a system generated report of DBBL', '\\x0c']\n"
     ]
    }
   ],
   "source": [
    "# Now lets split the text\n",
    "test = text.split(\"\\n\")\n",
    "print(test)"
   ]
  },
  {
   "cell_type": "code",
   "execution_count": 8,
   "metadata": {},
   "outputs": [
    {
     "data": {
      "text/plain": [
       "list"
      ]
     },
     "execution_count": 8,
     "metadata": {},
     "output_type": "execute_result"
    }
   ],
   "source": [
    "type(test)"
   ]
  },
  {
   "cell_type": "code",
   "execution_count": 9,
   "metadata": {},
   "outputs": [],
   "source": [
    "with open('readme.txt', 'w') as f:\n",
    "    for line in test:\n",
    "        f.write(line)\n",
    "        f.write('\\n')"
   ]
  },
  {
   "cell_type": "markdown",
   "metadata": {},
   "source": [
    "### Now we need to save the info in excel"
   ]
  },
  {
   "cell_type": "code",
   "execution_count": 6,
   "metadata": {},
   "outputs": [],
   "source": [
    "import csv\n",
    "with open('wordstest.csv', 'w', encoding='UTF8') as f:\n",
    "    writer = csv.writer(f)\n",
    "\n",
    "    # write the header\n",
    "    writer.writerow(text)\n"
   ]
  }
 ],
 "metadata": {
  "interpreter": {
   "hash": "f9f85f796d01129d0dd105a088854619f454435301f6ffec2fea96ecbd9be4ac"
  },
  "kernelspec": {
   "display_name": "Python 3.9.10 64-bit",
   "language": "python",
   "name": "python3"
  },
  "language_info": {
   "codemirror_mode": {
    "name": "ipython",
    "version": 3
   },
   "file_extension": ".py",
   "mimetype": "text/x-python",
   "name": "python",
   "nbconvert_exporter": "python",
   "pygments_lexer": "ipython3",
   "version": "3.8.10"
  },
  "orig_nbformat": 4
 },
 "nbformat": 4,
 "nbformat_minor": 2
}
